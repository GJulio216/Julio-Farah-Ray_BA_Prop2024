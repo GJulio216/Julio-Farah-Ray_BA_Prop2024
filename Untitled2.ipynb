{
 "cells": [
  {
   "cell_type": "code",
   "execution_count": 109,
   "id": "a34af83c-5b9a-4a6f-a635-3fdd5177c52e",
   "metadata": {},
   "outputs": [
    {
     "ename": "ModuleNotFoundError",
     "evalue": "No module named 'geopandas'",
     "output_type": "error",
     "traceback": [
      "\u001b[0;31m---------------------------------------------------------------------------\u001b[0m",
      "\u001b[0;31mModuleNotFoundError\u001b[0m                       Traceback (most recent call last)",
      "\u001b[0;32m/tmp/ipykernel_9089/1565917368.py\u001b[0m in \u001b[0;36m<module>\u001b[0;34m\u001b[0m\n\u001b[1;32m      3\u001b[0m \u001b[0;32mimport\u001b[0m \u001b[0mnumpy\u001b[0m \u001b[0;32mas\u001b[0m \u001b[0mnp\u001b[0m\u001b[0;34m\u001b[0m\u001b[0;34m\u001b[0m\u001b[0m\n\u001b[1;32m      4\u001b[0m \u001b[0;32mimport\u001b[0m \u001b[0mpandas\u001b[0m \u001b[0;32mas\u001b[0m \u001b[0mpd\u001b[0m\u001b[0;34m\u001b[0m\u001b[0;34m\u001b[0m\u001b[0m\n\u001b[0;32m----> 5\u001b[0;31m \u001b[0;32mimport\u001b[0m \u001b[0mgeopandas\u001b[0m \u001b[0;32mas\u001b[0m \u001b[0mgpd\u001b[0m\u001b[0;34m\u001b[0m\u001b[0;34m\u001b[0m\u001b[0m\n\u001b[0m",
      "\u001b[0;31mModuleNotFoundError\u001b[0m: No module named 'geopandas'"
     ]
    }
   ],
   "source": [
    "import matplotlib.pyplot as plt\n",
    "import pyodbc\n",
    "import numpy as np\n",
    "import pandas as pd"
   ]
  },
  {
   "cell_type": "code",
   "execution_count": 110,
   "id": "10edc930-a5df-4c98-9392-32ecd8ca6e14",
   "metadata": {},
   "outputs": [],
   "source": [
    "server = \"localhost\"\n",
    "database = \"Spr_2024\"\n",
    "username = \"raymondtecaxcoflores14\"\n",
    "password = \"CCny23652014\"\n",
    "\n",
    "cnxn = pyodbc.connect(\n",
    "    \"DRIVER={ODBC Driver 17 for SQL Server};SERVER=\"\n",
    "    + server\n",
    "    + \";DATABASE=\"\n",
    "    + database\n",
    "    + \";UID=\"\n",
    "    + username\n",
    "    + \";PWD=\"\n",
    "    + password\n",
    ")\n",
    "\n",
    "cnxn.autocommit = True"
   ]
  },
  {
   "cell_type": "code",
   "execution_count": 85,
   "id": "1c1dfc01-28c3-406d-b67f-eb3a1e591577",
   "metadata": {},
   "outputs": [],
   "source": [
    "sql_query = \"\"\"\n",
    "        SELECT od.order_date_DateOrders,\n",
    "            od.Order_Country,\n",
    "            od.Order_Item_Cardprod_Id,\n",
    "            od.Order_State,\n",
    "            od.Order_Zipcode,\n",
    "            od.Sales,\n",
    "            pd.Product_Card_Id,\n",
    "            pd.Category_Name\n",
    "\n",
    "\n",
    "        FROM OrderData AS od\n",
    "            LEFT JOIN ProductData AS pd\n",
    "                ON od.Order_Item_Cardprod_Id = pd.Product_Card_Id\n",
    "                \n",
    "        WHERE (Order_Country = 'Estados Unidos')\n",
    "            OR (Order_Country = 'Alemania')\n",
    "            OR (Order_Country = 'Francia')\n",
    "\"\"\""
   ]
  },
  {
   "cell_type": "code",
   "execution_count": 94,
   "id": "aa4ad821-0ee0-45f1-978e-befa12f4ea47",
   "metadata": {},
   "outputs": [],
   "source": [
    "data = pd.read_sql(sql=sql_query, con=cnxn)\n"
   ]
  },
  {
   "cell_type": "code",
   "execution_count": 108,
   "id": "849bda4e-f70e-49fe-bbf4-a0f55f6876e1",
   "metadata": {},
   "outputs": [
    {
     "data": {
      "text/plain": [
       "Text(0.5, 1.0, 'Total Sales For Top 3 Performing Countries')"
      ]
     },
     "execution_count": 108,
     "metadata": {},
     "output_type": "execute_result"
    },
    {
     "data": {
      "image/png": "[encoded data removed]",
      "text/plain": [
       "<Figure size 432x288 with 1 Axes>"
      ]
     },
     "metadata": {
      "needs_background": "light"
     },
     "output_type": "display_data"
    }
   ],
   "source": [
    "\n",
    "data.groupby('Order_Country')['Sales'].sum().plot(kind='barh')\n",
    "#plt.barh('Country', 'Sales')\n",
    "ax.set_xlabel('Sales')\n",
    "ax.set_title('Total Sales For Top 3 Performing Countries')"
   ]
  },
  {
   "cell_type": "code",
   "execution_count": 98,
   "id": "50973a52-0e7b-4476-9f69-add9bda75125",
   "metadata": {},
   "outputs": [
    {
     "data": {
      "text/plain": [
       "Order_Country\n",
       "Alemania          2.074172e+06\n",
       "Estados Unidos    4.879668e+06\n",
       "Francia           2.879942e+06\n",
       "Name: Sales, dtype: float64"
      ]
     },
     "execution_count": 98,
     "metadata": {},
     "output_type": "execute_result"
    }
   ],
   "source": [
    "data.groupby('Order_Country')['Sales'].sum()"
   ]
  },
  {
   "cell_type": "code",
   "execution_count": 99,
   "id": "6a2dd278-ccba-4365-89d8-90326230a652",
   "metadata": {},
   "outputs": [
    {
     "data": {
      "text/plain": [
       "order_date_DateOrders     datetime64[ns]\n",
       "Order_Country                     object\n",
       "Order_Item_Cardprod_Id            object\n",
       "Order_State                       object\n",
       "Order_Zipcode                    float64\n",
       "Sales                            float64\n",
       "Product_Card_Id                   object\n",
       "Category_Name                     object\n",
       "dtype: object"
      ]
     },
     "execution_count": 99,
     "metadata": {},
     "output_type": "execute_result"
    }
   ],
   "source": [
    "data.dtypes"
   ]
  },
  {
   "cell_type": "code",
   "execution_count": null,
   "id": "1cb17906-7bd8-4946-9849-6155dc1d2752",
   "metadata": {},
   "outputs": [],
   "source": []
  },
  {
   "cell_type": "code",
   "execution_count": 44,
   "id": "88f55f54-251a-4949-952c-e119c5a11254",
   "metadata": {},
   "outputs": [
    {
     "data": {
      "image/png": "[encoded data removed]",
      "text/plain": [
       "<Figure size 432x288 with 1 Axes>"
      ]
     },
     "metadata": {
      "needs_background": "light"
     },
     "output_type": "display_data"
    }
   ],
   "source": [
    "Countries = (\"United States\", \"France\", \"Germany\")\n",
    "Order_Volume = {\n",
    "    '2015': (0, 7144, 5142),\n",
    "    '2016': (24840, 0, 0),\n",
    "    '2017': (0, 6078, 4422),\n",
    "}\n",
    "\n",
    "x = np.arange(len(Countries))  # the label locations\n",
    "width = 0.25  # the width of the bars\n",
    "multiplier = 0\n",
    "\n",
    "fig, ax = plt.subplots(layout='constrained')\n",
    "\n",
    "for attribute, measurement in Order_Volume.items():\n",
    "    offset = width * multiplier\n",
    "    rects = ax.bar(x + offset, measurement, width, label=attribute)\n",
    "    ax.bar_label(rects, padding=3)\n",
    "    multiplier += 1\n",
    "\n",
    "# Add some text for labels, title and custom x-axis tick labels, etc.\n",
    "ax.set_ylabel('Orders')\n",
    "ax.set_title('Total Order Volume')\n",
    "ax.set_xticks(x + width, Countries)\n",
    "ax.legend(loc='upper left')\n",
    "ax.set_ylim(0, 40000)\n",
    "\n",
    "plt.show()"
   ]
  },
  {
   "cell_type": "code",
   "execution_count": null,
   "id": "e76a7652-a40a-4f65-adc1-01fe91334216",
   "metadata": {},
   "outputs": [],
   "source": []
  },
  {
   "cell_type": "code",
   "execution_count": null,
   "id": "b662d7f3-c87c-40f3-921e-5a0bdb32f582",
   "metadata": {},
   "outputs": [],
   "source": []
  }
 ],
 "metadata": {
  "kernelspec": {
   "display_name": "Python 3 (ipykernel)",
   "language": "python",
   "name": "python3"
  },
  "language_info": {
   "codemirror_mode": {
    "name": "ipython",
    "version": 3
   },
   "file_extension": ".py",
   "mimetype": "text/x-python",
   "name": "python",
   "nbconvert_exporter": "python",
   "pygments_lexer": "ipython3",
   "version": "3.9.7"
  }
 },
 "nbformat": 4,
 "nbformat_minor": 5
}
