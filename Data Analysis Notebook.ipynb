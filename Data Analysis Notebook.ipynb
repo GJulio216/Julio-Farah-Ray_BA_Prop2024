{
 "cells": [
  {
   "cell_type": "code",
   "execution_count": null,
   "id": "3dc85cfb-3f0a-4780-941e-a31ed9bda708",
   "metadata": {},
   "outputs": [],
   "source": [
    "import pandas as pd\n",
    "import pyodbc\n",
    "from googletrans import Translator"
   ]
  },
  {
   "cell_type": "code",
   "execution_count": null,
   "id": "b278211d-9e03-4750-8fed-1334fcf6a8b5",
   "metadata": {},
   "outputs": [],
   "source": [
    "server = \"localhost\"\n",
    "database = \"Spr_2024\"\n",
    "username = \"raymondtecaxcoflores14\"\n",
    "password = \"CCny23652014\"\n",
    "\n",
    "cnxn = pyodbc.connect(\n",
    "        \"DRIVER={ODBC Driver 17 for SQL Server};SERVER=\"\n",
    "    + server\n",
    "    + \";DATABASE=\"\n",
    "    + database\n",
    "    + \";UID=\"\n",
    "    + username\n",
    "    + \";PWD=\"\n",
    "    + password\n",
    ")"
   ]
  },
  {
   "cell_type": "code",
   "execution_count": null,
   "id": "2b0e4878-e563-499b-9266-e02616b8af39",
   "metadata": {},
   "outputs": [],
   "source": [
    "sql_query = \"\"\"SELECT main.Order_Id,   \n",
    "            main.Order_Customer_Id,\n",
    "            orderd.Order_City,\n",
    "            orderd.Order_Country,\n",
    "            orderd.Order_Zipcode,\n",
    "            orderd.order_date_DateOrders,\n",
    "            orderd.Order_Item_Quantity,\n",
    "            orderd.Order_Item_Profit_Ratio,\n",
    "            orderd.Type,\n",
    "            orderd.Order_Status\n",
    "\n",
    "    FROM OrderData AS orderd \n",
    "        LEFT JOIN MainTable AS main\n",
    "            ON orderd.Order_Customer_Id = main.Order_Customer_Id\n",
    "            \"\"\""
   ]
  },
  {
   "cell_type": "code",
   "execution_count": null,
   "id": "9218731d-db9d-4c3b-868b-641946959cf0",
   "metadata": {},
   "outputs": [],
   "source": []
  },
  {
   "cell_type": "code",
   "execution_count": null,
   "id": "2cded3d3-db83-4d09-993b-e467e3603ad2",
   "metadata": {},
   "outputs": [],
   "source": [
    "data = pd.read_sql( sql=sql_query , con=cnxn)\n",
    "cnxn.close()"
   ]
  },
  {
   "cell_type": "code",
   "execution_count": null,
   "id": "1dbf5d8b-d515-4b1d-a8df-16d5c38505c7",
   "metadata": {},
   "outputs": [],
   "source": [
    "len(data.Order_Customer_Id.unique())"
   ]
  },
  {
   "cell_type": "code",
   "execution_count": null,
   "id": "8b7ccc8e-7bca-4947-b64c-6fbcdb824153",
   "metadata": {},
   "outputs": [],
   "source": [
    "data.Order_Status.value_counts()"
   ]
  },
  {
   "cell_type": "code",
   "execution_count": null,
   "id": "404e5f16-0166-4f41-af34-db5ed6fc7284",
   "metadata": {},
   "outputs": [],
   "source": [
    "list(data.columns)"
   ]
  },
  {
   "cell_type": "code",
   "execution_count": null,
   "id": "737d7fd6-8e21-4a4c-ab23-188d3d4212c7",
   "metadata": {},
   "outputs": [],
   "source": [
    "data.dtypes\n"
   ]
  },
  {
   "cell_type": "code",
   "execution_count": null,
   "id": "4ff1eac2-8398-481b-b5e0-f470076fbd73",
   "metadata": {},
   "outputs": [],
   "source": [
    "#data.groupby('Order_Country')['Order_Item_Profit_Ratio'].mean().plot(kind='bar')"
   ]
  },
  {
   "cell_type": "code",
   "execution_count": null,
   "id": "f010d8e6-07a0-4753-90b2-6c6aed56d3ef",
   "metadata": {},
   "outputs": [],
   "source": []
  }
 ],
 "metadata": {
  "kernelspec": {
   "display_name": "Python 3 (ipykernel)",
   "language": "python",
   "name": "python3"
  },
  "language_info": {
   "codemirror_mode": {
    "name": "ipython",
    "version": 3
   },
   "file_extension": ".py",
   "mimetype": "text/x-python",
   "name": "python",
   "nbconvert_exporter": "python",
   "pygments_lexer": "ipython3",
   "version": "3.9.7"
  }
 },
 "nbformat": 4,
 "nbformat_minor": 5
}
