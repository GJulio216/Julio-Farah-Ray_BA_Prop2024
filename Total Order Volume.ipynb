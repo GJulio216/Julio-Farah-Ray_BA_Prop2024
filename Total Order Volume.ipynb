{
 "cells": [
  {
   "cell_type": "code",
   "execution_count": 17,
   "id": "c0a7f182-e491-4b42-b3d4-5bf6d5b4cd00",
   "metadata": {},
   "outputs": [],
   "source": [
    "import pandas as pd\n",
    "import matplotlib.pyplot as plt"
   ]
  },
  {
   "cell_type": "code",
   "execution_count": 21,
   "id": "cde043ea-5865-4792-a585-66a4c14074b7",
   "metadata": {},
   "outputs": [],
   "source": [
    "server = \"localhost\"\n",
    "database = \"Spr_2024\"\n",
    "username = \"raymondtecaxcoflores14\"\n",
    "password = \"CCny23652014\"\n",
    "\n",
    "cnxn = pyodbc.connect(\n",
    "        \"DRIVER={ODBC Driver 17 for SQL Server};SERVER=\"\n",
    "    + server\n",
    "    + \";DATABASE=\"\n",
    "    + database\n",
    "    + \";UID=\"\n",
    "    + username\n",
    "    + \";PWD=\"\n",
    "    + password\n",
    ")"
   ]
  },
  {
   "cell_type": "code",
   "execution_count": 19,
   "id": "62ee882d-bdcf-4381-8dd3-5907b9602151",
   "metadata": {},
   "outputs": [],
   "source": [
    "sql_query = \"\"\"SELECT TOP 15\n",
    "                    customer_state,\n",
    "\n",
    "                COUNT (order_id) AS totalorders \n",
    "\n",
    "                FROM [dbo].[CustomerData]\n",
    "\n",
    "                JOIN [dbo].[orderdata] ON customer_id = customer_id \n",
    "\n",
    "                GROUP BY \n",
    "                    customer_state \n",
    "\n",
    "                ORDER BY \n",
    "                    totalorders DESC;\n",
    "            \"\"\""
   ]
  },
  {
   "cell_type": "code",
   "execution_count": 20,
   "id": "fd04b052-eef0-4ee6-a7da-723b71a03cdd",
   "metadata": {},
   "outputs": [
    {
     "data": {
      "image/png": "[encoded data removed]",
      "text/plain": [
       "<Figure size 432x288 with 1 Axes>"
      ]
     },
     "metadata": {
      "needs_background": "light"
     },
     "output_type": "display_data"
    }
   ],
   "source": [
    "States = [\"CA\", \"NY\", \"TX\", \"IL\", \"FL\", \"OH\", \"MI\", \n",
    "          \"PA\", \"NJ\", \"AZ\", \"GA\", \"MD\", \"VA\", \"NC\"]\n",
    "\n",
    "Quantity = [598962042, 230703282, 196404672, 154343745, 105242577, 83941335, 77081613, 76901094, 68777739, 67153068\n",
    "           , 56321928, 47657016, 42421965, 41519370]\n",
    "\n",
    "plt.barh(States, Quantity)\n",
    "\n",
    "plt.xlabel('Quantity (in hundreds of millions)' )\n",
    "plt.ylabel('States')\n",
    "plt.title('Total Order Volume By State')\n",
    "\n",
    "\n",
    "plt.show()"
   ]
  }
 ],
 "metadata": {
  "kernelspec": {
   "display_name": "Python 3 (ipykernel)",
   "language": "python",
   "name": "python3"
  },
  "language_info": {
   "codemirror_mode": {
    "name": "ipython",
    "version": 3
   },
   "file_extension": ".py",
   "mimetype": "text/x-python",
   "name": "python",
   "nbconvert_exporter": "python",
   "pygments_lexer": "ipython3",
   "version": "3.9.7"
  }
 },
 "nbformat": 4,
 "nbformat_minor": 5
}
