{
 "cells": [
  {
   "cell_type": "code",
   "execution_count": 3,
   "id": "8d70a5bd-500b-47a4-8152-24fd1fdfbcc8",
   "metadata": {},
   "outputs": [],
   "source": [
    "import matplotlib.pyplot as plt\n",
    "import pyodbc"
   ]
  },
  {
   "cell_type": "code",
   "execution_count": 6,
   "id": "d5e4af8f-3c44-4529-afb7-1645efa3fb73",
   "metadata": {},
   "outputs": [],
   "source": [
    "server = \"localhost\"\n",
    "database = \"Spr_2024\"\n",
    "username = \"raymondtecaxcoflores14\"\n",
    "password = \"CCny23652014\"\n",
    "\n",
    "cnxn = pyodbc.connect(\n",
    "        \"DRIVER={ODBC Driver 17 for SQL Server};SERVER=\"\n",
    "    + server\n",
    "    + \";DATABASE=\"\n",
    "    + database\n",
    "    + \";UID=\"\n",
    "    + username\n",
    "    + \";PWD=\"\n",
    "    + password\n",
    ")"
   ]
  },
  {
   "cell_type": "code",
   "execution_count": 7,
   "id": "d08c6f4e-e81e-47c8-aac0-a6128829f0c9",
   "metadata": {},
   "outputs": [],
   "source": [
    "sql_query = \"\"\"SELECT Order_Item_Total,\n",
    "    Order_Country\n",
    "\n",
    "FROM OrderData\n",
    "\n",
    "WHERE Order_Country = 'Alemania'\n",
    "    OR Order_Country = 'Estados Unidos'\n",
    "    OR Order_Country = 'Francia' \n",
    "    \"\"\""
   ]
  },
  {
   "cell_type": "code",
   "execution_count": 14,
   "id": "caf3acec-dd69-42ed-95ae-99a673d64ee6",
   "metadata": {},
   "outputs": [
    {
     "data": {
      "image/png": "[encoded data removed]",
      "text/plain": [
       "<Figure size 432x288 with 1 Axes>"
      ]
     },
     "metadata": {
      "needs_background": "light"
     },
     "output_type": "display_data"
    }
   ],
   "source": [
    "Countries = [\"United States\", \"Germany\", \"France\"]\n",
    "\n",
    "AverageTotalPrice = [204.76, 195.8216848, 194.7488068]\n",
    "\n",
    "plt.bar(Countries, AverageTotalPrice)\n",
    "\n",
    "plt.xlabel('Countries' )\n",
    "plt.ylabel('Average Order Price')\n",
    "plt.title('Total Average Order Price By Country')\n",
    "plt.ylim(bottom = 180, top = 220)\n",
    "\n",
    "\n",
    "plt.show()"
   ]
  }
 ],
 "metadata": {
  "kernelspec": {
   "display_name": "Python 3 (ipykernel)",
   "language": "python",
   "name": "python3"
  },
  "language_info": {
   "codemirror_mode": {
    "name": "ipython",
    "version": 3
   },
   "file_extension": ".py",
   "mimetype": "text/x-python",
   "name": "python",
   "nbconvert_exporter": "python",
   "pygments_lexer": "ipython3",
   "version": "3.9.7"
  }
 },
 "nbformat": 4,
 "nbformat_minor": 5
}
