{
 "cells": [
  {
   "cell_type": "code",
   "execution_count": 144,
   "id": "a34af83c-5b9a-4a6f-a635-3fdd5177c52e",
   "metadata": {},
   "outputs": [],
   "source": [
    "import matplotlib.pyplot as plt\n",
    "import pyodbc\n",
    "import numpy as np\n",
    "import pandas as pd\n",
    "import seaborn as sns"
   ]
  },
  {
   "cell_type": "code",
   "execution_count": 145,
   "id": "10edc930-a5df-4c98-9392-32ecd8ca6e14",
   "metadata": {},
   "outputs": [],
   "source": [
    "server = \"localhost\"\n",
    "database = \"Spr_2024\"\n",
    "username = \"raymondtecaxcoflores14\"\n",
    "password = \"CCny23652014\"\n",
    "\n",
    "cnxn = pyodbc.connect(\n",
    "    \"DRIVER={ODBC Driver 17 for SQL Server};SERVER=\"\n",
    "    + server\n",
    "    + \";DATABASE=\"\n",
    "    + database\n",
    "    + \";UID=\"\n",
    "    + username\n",
    "    + \";PWD=\"\n",
    "    + password\n",
    ")\n",
    "\n",
    "cnxn.autocommit = True"
   ]
  },
  {
   "cell_type": "code",
   "execution_count": 146,
   "id": "1c1dfc01-28c3-406d-b67f-eb3a1e591577",
   "metadata": {},
   "outputs": [],
   "source": [
    "sql_query = \"\"\"\n",
    "        SELECT od.order_date_DateOrders,\n",
    "            od.Order_Country,\n",
    "            od.Order_Item_Cardprod_Id,\n",
    "            od.Order_State,\n",
    "            od.Order_Zipcode,\n",
    "            od.Sales,\n",
    "            pd.Product_Card_Id,\n",
    "            pd.Category_Name\n",
    "\n",
    "\n",
    "        FROM OrderData AS od\n",
    "            LEFT JOIN ProductData AS pd\n",
    "                ON od.Order_Item_Cardprod_Id = pd.Product_Card_Id\n",
    "                \n",
    "        WHERE (Order_Country = 'Estados Unidos')\n",
    "            OR (Order_Country = 'Alemania')\n",
    "            OR (Order_Country = 'Francia')\n",
    "\"\"\""
   ]
  },
  {
   "cell_type": "code",
   "execution_count": 136,
   "id": "aa4ad821-0ee0-45f1-978e-befa12f4ea47",
   "metadata": {},
   "outputs": [],
   "source": [
    "data = pd.read_sql(sql=sql_query, con=cnxn)"
   ]
  },
  {
   "cell_type": "code",
   "execution_count": 137,
   "id": "849bda4e-f70e-49fe-bbf4-a0f55f6876e1",
   "metadata": {},
   "outputs": [
    {
     "data": {
      "text/plain": [
       "Text(0.5, 1.0, 'Total Sales For Top 3 Performing Countries')"
      ]
     },
     "execution_count": 137,
     "metadata": {},
     "output_type": "execute_result"
    },
    {
     "data": {
      "image/png": "[encoded data removed]",
      "text/plain": [
       "<Figure size 432x288 with 1 Axes>"
      ]
     },
     "metadata": {
      "needs_background": "light"
     },
     "output_type": "display_data"
    }
   ],
   "source": [
    "data.groupby('Order_Country')['Sales'].mean().plot(kind='barh')\n",
    "#plt.barh('Country', 'Sales')\n",
    "ax.set_xlabel('Sales')\n",
    "ax.set_title('Total Sales For Top 3 Performing Countries')"
   ]
  },
  {
   "cell_type": "code",
   "execution_count": 168,
   "id": "9b7d3212-f617-4041-a127-9ded1abb0c69",
   "metadata": {},
   "outputs": [
    {
     "data": {
      "text/plain": [
       "<pandas.core.groupby.generic.SeriesGroupBy object at 0x7fd55caeed00>"
      ]
     },
     "execution_count": 168,
     "metadata": {},
     "output_type": "execute_result"
    }
   ],
   "source": [
    "#data.groupby('Order_Country')['Order_Zipcode']"
   ]
  },
  {
   "cell_type": "code",
   "execution_count": 167,
   "id": "50973a52-0e7b-4476-9f69-add9bda75125",
   "metadata": {},
   "outputs": [
    {
     "data": {
      "text/plain": [
       "<Figure size 3600x8640 with 0 Axes>"
      ]
     },
     "metadata": {},
     "output_type": "display_data"
    }
   ],
   "source": [
    "plt.figure(figsize=(50,120))\n",
    "total_Sales = pd.DataFrame(data.groupby(['Order_Country', 'Order_Zipcode'])['Sales'].sum().sort_values())\n",
    "\n",
    "\n",
    "#plt.bar(total_Sales.index, total_Sales['Sales'])\n",
    "\n",
    "#plt.show()"
   ]
  },
  {
   "cell_type": "code",
   "execution_count": 44,
   "id": "88f55f54-251a-4949-952c-e119c5a11254",
   "metadata": {},
   "outputs": [
    {
     "data": {
      "image/png": "[encoded data removed]",
      "text/plain": [
       "<Figure size 432x288 with 1 Axes>"
      ]
     },
     "metadata": {
      "needs_background": "light"
     },
     "output_type": "display_data"
    }
   ],
   "source": [
    "Countries = (\"United States\", \"France\", \"Germany\")\n",
    "Order_Volume = {\n",
    "    '2015': (0, 7144, 5142),\n",
    "    '2016': (24840, 0, 0),\n",
    "    '2017': (0, 6078, 4422),\n",
    "}\n",
    "\n",
    "x = np.arange(len(Countries))  # the label locations\n",
    "width = 0.25  # the width of the bars\n",
    "multiplier = 0\n",
    "\n",
    "fig, ax = plt.subplots(layout='constrained')\n",
    "\n",
    "for attribute, measurement in Order_Volume.items():\n",
    "    offset = width * multiplier\n",
    "    rects = ax.bar(x + offset, measurement, width, label=attribute)\n",
    "    ax.bar_label(rects, padding=3)\n",
    "    multiplier += 1\n",
    "\n",
    "# Add some text for labels, title and custom x-axis tick labels, etc.\n",
    "ax.set_ylabel('Orders')\n",
    "ax.set_title('Total Order Volume')\n",
    "ax.set_xticks(x + width, Countries)\n",
    "ax.legend(loc='upper left')\n",
    "ax.set_ylim(0, 40000)\n",
    "\n",
    "plt.show()"
   ]
  }
 ],
 "metadata": {
  "kernelspec": {
   "display_name": "Python 3 (ipykernel)",
   "language": "python",
   "name": "python3"
  },
  "language_info": {
   "codemirror_mode": {
    "name": "ipython",
    "version": 3
   },
   "file_extension": ".py",
   "mimetype": "text/x-python",
   "name": "python",
   "nbconvert_exporter": "python",
   "pygments_lexer": "ipython3",
   "version": "3.9.7"
  }
 },
 "nbformat": 4,
 "nbformat_minor": 5
}
